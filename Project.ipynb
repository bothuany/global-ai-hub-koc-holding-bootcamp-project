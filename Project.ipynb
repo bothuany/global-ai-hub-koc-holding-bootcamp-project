{
  "nbformat": 4,
  "nbformat_minor": 0,
  "metadata": {
    "colab": {
      "provenance": [],
      "collapsed_sections": [],
      "include_colab_link": true
    },
    "kernelspec": {
      "name": "python3",
      "display_name": "Python 3"
    },
    "language_info": {
      "name": "python"
    }
  },
  "cells": [
    {
      "cell_type": "markdown",
      "metadata": {
        "id": "view-in-github",
        "colab_type": "text"
      },
      "source": [
        "<a href=\"https://colab.research.google.com/github/rbdikmen/global-ai-hub-koc-holding-bootcamp-project/blob/main/Project.ipynb\" target=\"_parent\"><img src=\"https://colab.research.google.com/assets/colab-badge.svg\" alt=\"Open In Colab\"/></a>"
      ]
    },
    {
      "cell_type": "markdown",
      "source": [
        "Project"
      ],
      "metadata": {
        "id": "wFIccN2hd028"
      }
    },
    {
      "cell_type": "markdown",
      "source": [
        "Selman-"
      ],
      "metadata": {
        "id": "DKIj-r9vCPID"
      }
    },
    {
      "cell_type": "code",
      "source": [],
      "metadata": {
        "id": "5aX6hTOfd5-k"
      },
      "execution_count": null,
      "outputs": []
    },
    {
      "cell_type": "markdown",
      "source": [
        "-Selman"
      ],
      "metadata": {
        "id": "AQsnRgDCCQ-S"
      }
    }
  ]
}