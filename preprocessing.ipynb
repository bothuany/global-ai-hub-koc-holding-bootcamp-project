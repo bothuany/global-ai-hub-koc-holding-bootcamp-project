{
 "cells": [
  {
   "cell_type": "markdown",
   "metadata": {},
   "source": [
    "<font size=\"5\">Importing Libaries</font>"
   ]
  },
  {
   "cell_type": "code",
   "execution_count": 1,
   "metadata": {},
   "outputs": [],
   "source": [
    "from glob import glob\n",
    "import numpy as np\n",
    "import pandas as pd\n",
    "import cv2\n",
    "import random"
   ]
  },
  {
   "cell_type": "markdown",
   "metadata": {},
   "source": [
    "<font size=\"5\">Preprocessing</font>"
   ]
  },
  {
   "cell_type": "code",
   "execution_count": 2,
   "metadata": {},
   "outputs": [],
   "source": [
    "paths = glob(\"./data/*/*\")\n",
    "images = []\n",
    "labels = []\n",
    "for path in paths:\n",
    "    img = cv2.imread(path)\n",
    "    img = cv2.cvtColor(img,cv2.COLOR_BGR2GRAY)\n",
    "    img= cv2.resize(img,(64,64),interpolation= cv2.INTER_AREA)\n",
    "    img = img/255.0\n",
    "    images.append(img)\n",
    "    label = path.split(\"-\")[1]\n",
    "    labels.append(int(path.split(\"-\")[1]))\n",
    "c = list(zip(images, labels))\n",
    "random.shuffle(c)\n",
    "images, labels = zip(*c)\n",
    "\n",
    "labels = np.array(labels)\n",
    "images = np.array(images).astype(\"float32\")"
   ]
  },
  {
   "cell_type": "markdown",
   "metadata": {},
   "source": [
    "<font size=\"5\">Creating X_train, y_train, X_val, y_val, X_test and y_test files</font>"
   ]
  },
  {
   "cell_type": "code",
   "execution_count": 3,
   "metadata": {},
   "outputs": [],
   "source": [
    "from sklearn.model_selection import train_test_split\n",
    "\n",
    "x_train,x_temp,y_train,y_temp = train_test_split(images,labels,test_size=0.2)\n",
    "x_val,x_test,y_val,y_test = train_test_split(x_temp,y_temp,test_size=0.5)"
   ]
  },
  {
   "cell_type": "markdown",
   "metadata": {},
   "source": [
    "<font size=\"5\">Saving datasets</font>"
   ]
  },
  {
   "cell_type": "code",
   "execution_count": 4,
   "metadata": {},
   "outputs": [],
   "source": [
    "np.save('./datasets/x_train.npy', x_train)\n",
    "np.save('./datasets/y_train.npy', y_train)\n",
    "np.save('./datasets/x_val.npy', x_val)\n",
    "np.save('./datasets/y_val.npy', y_val)\n",
    "np.save('./datasets/x_test.npy', x_test)\n",
    "np.save('./datasets/y_test.npy', y_test)"
   ]
  }
 ],
 "metadata": {
  "kernelspec": {
   "display_name": "Python 3.9.12 ('base')",
   "language": "python",
   "name": "python3"
  },
  "language_info": {
   "codemirror_mode": {
    "name": "ipython",
    "version": 3
   },
   "file_extension": ".py",
   "mimetype": "text/x-python",
   "name": "python",
   "nbconvert_exporter": "python",
   "pygments_lexer": "ipython3",
   "version": "3.9.12"
  },
  "orig_nbformat": 4,
  "vscode": {
   "interpreter": {
    "hash": "a5fbe1c4708df8c2d51ce54c8048efa836d2fb5a74217477505b883e66bc0223"
   }
  }
 },
 "nbformat": 4,
 "nbformat_minor": 2
}
